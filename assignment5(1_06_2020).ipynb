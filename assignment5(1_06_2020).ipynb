{
  "nbformat": 4,
  "nbformat_minor": 0,
  "metadata": {
    "colab": {
      "name": "assignment5(1-06-2020).ipynb",
      "provenance": [],
      "authorship_tag": "ABX9TyOODukxopSXdrfo6nmTD239",
      "include_colab_link": true
    },
    "kernelspec": {
      "name": "python3",
      "display_name": "Python 3"
    }
  },
  "cells": [
    {
      "cell_type": "markdown",
      "metadata": {
        "id": "view-in-github",
        "colab_type": "text"
      },
      "source": [
        "<a href=\"https://colab.research.google.com/github/Siddharth-2000/fdfs/blob/master/assignment5(1_06_2020).ipynb\" target=\"_parent\"><img src=\"https://colab.research.google.com/assets/colab-badge.svg\" alt=\"Open In Colab\"/></a>"
      ]
    },
    {
      "cell_type": "code",
      "metadata": {
        "id": "Xw2uqcgYjnwG",
        "colab_type": "code",
        "colab": {}
      },
      "source": [
        "def p():\n",
        "    import random\n",
        "    list1=['sky','water','land','air','rain','wind','thunder','storm','drizzle','Heat']\n",
        "    list2=['small','high','huge','nasty','heavy','fast','thunderous','crazy','light','damage']\n",
        "    list3=['@','!','$','#','?','.',';',':','&','/']\n",
        "    password=random.choice(list1)+random.choice(list2)+random.choice(list3)+str(random.randint(1,10))\n",
        "    print('Your new password is ',password)\n",
        "    s=input('want another password ')\n",
        "    if s=='yes':\n",
        "        p()\n",
        "    else:\n",
        "        print('your permanent password is ',password)"
      ],
      "execution_count": 0,
      "outputs": []
    },
    {
      "cell_type": "code",
      "metadata": {
        "id": "icPGbothj1mN",
        "colab_type": "code",
        "colab": {
          "base_uri": "https://localhost:8080/",
          "height": 170
        },
        "outputId": "81da9798-5040-4ba2-c5d1-b3f5ef160d9e"
      },
      "source": [
        "p()"
      ],
      "execution_count": 9,
      "outputs": [
        {
          "output_type": "stream",
          "text": [
            "Your new password is  Heatdamage&7\n",
            "want another password yes\n",
            "Your new password is  skyhuge/4\n",
            "want another password yes\n",
            "Your new password is  drizzlefast&2\n",
            "want another password yes\n",
            "Your new password is  skysmall.1\n",
            "want another password no\n",
            "your permanent password is  skysmall.1\n"
          ],
          "name": "stdout"
        }
      ]
    }
  ]
}